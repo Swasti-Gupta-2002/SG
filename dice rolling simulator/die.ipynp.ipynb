{
 "cells": [
  {
   "cell_type": "code",
   "execution_count": 6,
   "id": "ee2b492e",
   "metadata": {},
   "outputs": [],
   "source": [
    "import tkinter\n",
    "from PIL import Image, ImageTk\n",
    "import random\n",
    "\n",
    "root = tkinter.Tk()\n",
    "root.geometry('800x650')\n",
    "root.title('Roll the Dice')\n",
    "\n",
    "BlankLine = tkinter.Label(root, text=\"\")\n",
    "BlankLine.pack()\n",
    "# adding label with different font and formatting\n",
    "HeadingLabel = tkinter.Label(root, text=\"Hello!\", fg = \"light green\", bg = \"dark green\", font = \"Helvetica 16 bold italic\")\n",
    "HeadingLabel.pack()\n",
    "# images\n",
    "dice = ['die1.png', 'die2.png', 'die3.png', 'die4.png', 'die5.png', 'die6.png']\n",
    "# simulating the dice with random numbers between\n",
    "# 0 to 6 and generating image\n",
    "DiceImage = ImageTk.PhotoImage(Image.open(random.choice(dice)))\n",
    "# construct a label widget for image\n",
    "ImageLabel = tkinter.Label(root, image=DiceImage)\n",
    "ImageLabel.image = DiceImage\n",
    "# packing a widget in the parent widget \n",
    "ImageLabel.pack( expand=True)\n",
    "\n",
    "dice = ['die1.png', 'die2.png', 'die3.png', 'die4.png', 'die5.png', 'die6.png']\n",
    "# simulating the dice with random numbers between\n",
    "# 0 to 6 and generating image\n",
    "DiceImage = ImageTk.PhotoImage(Image.open(random.choice(dice)))\n",
    "\n",
    "ImageLabel = tkinter.Label(root, image=DiceImage)\n",
    "ImageLabel.image = DiceImage\n",
    "# packing a widget in the parent widget \n",
    "ImageLabel.pack( expand=True)\n",
    "# function activated by button\n",
    "def rolling_dice():\n",
    "    DiceImage = ImageTk.PhotoImage(Image.open(random.choice(dice)))\n",
    "    # update image\n",
    "    ImageLabel.configure(image=DiceImage)\n",
    "    # keep a reference\n",
    "    ImageLabel.image = DiceImage\n",
    "# adding button, and command will use rolling_dice function\n",
    "button = tkinter.Button(root, text='Roll the Dice', fg='blue', command=rolling_dice)\n",
    "# pack a widget in the parent widget\n",
    "button.pack( expand=True)\n",
    "# call the mainloop of Tk\n",
    "# keeps window open\n",
    "root.mainloop()"
   ]
  },
  {
   "cell_type": "code",
   "execution_count": null,
   "id": "69c2adc4",
   "metadata": {},
   "outputs": [],
   "source": []
  },
  {
   "cell_type": "code",
   "execution_count": null,
   "id": "cadbcace",
   "metadata": {},
   "outputs": [],
   "source": []
  }
 ],
 "metadata": {
  "kernelspec": {
   "display_name": "Python 3 (ipykernel)",
   "language": "python",
   "name": "python3"
  },
  "language_info": {
   "codemirror_mode": {
    "name": "ipython",
    "version": 3
   },
   "file_extension": ".py",
   "mimetype": "text/x-python",
   "name": "python",
   "nbconvert_exporter": "python",
   "pygments_lexer": "ipython3",
   "version": "3.9.12"
  }
 },
 "nbformat": 4,
 "nbformat_minor": 5
}
